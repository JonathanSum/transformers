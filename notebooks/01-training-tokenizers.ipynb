{
  "nbformat": 4,
  "nbformat_minor": 0,
  "metadata": {
    "kernelspec": {
      "display_name": "Python 3",
      "language": "python",
      "name": "python3"
    },
    "language_info": {
      "codemirror_mode": {
        "name": "ipython",
        "version": 3
      },
      "file_extension": ".py",
      "mimetype": "text/x-python",
      "name": "python",
      "nbconvert_exporter": "python",
      "pygments_lexer": "ipython3",
      "version": "3.7.6"
    },
    "pycharm": {
      "stem_cell": {
        "cell_type": "raw",
        "metadata": {
          "collapsed": false
        },
        "source": []
      }
    },
    "colab": {
      "name": "01-training-tokenizers.ipynb",
      "provenance": [],
      "toc_visible": true
    }
  },
  "cells": [
    {
      "cell_type": "markdown",
      "metadata": {
        "pycharm": {
          "is_executing": false,
          "name": "#%% md\n"
        },
        "id": "CIWayQfd4IML",
        "colab_type": "text"
      },
      "source": [
        "## Tokenization doesn't have to be slow !\n",
        "\n",
        "### Introduction\n",
        "\n",
        "Before going deep into any Machine Learning or Deep Learning Natural Language Processing models, every practitioner\n",
        "should find a way to map raw input strings to a representation understandable by a trainable model.\n",
        "\n",
        "One very simple approach would be to split inputs over every space and assign an identifier to each word. This approach\n",
        "would look similar to the code below in python\n",
        "\n",
        "```python\n",
        "s = \"very long corpus...\"\n",
        "words = s.split(\" \")  # Split over space\n",
        "vocabulary = dict(enumerate(set(words)))  # Map storing the word to it's corresponding id\n",
        "```\n",
        "\n",
        "This approach might work well if your vocabulary remains small as it would store every word (or **token**) present in your original\n",
        "input. Moreover, word variations like \"cat\" and \"cats\" would not share the same identifiers even if their meaning is \n",
        "quite close.\n",
        "\n",
        "![tokenization_simple](https://cdn.analyticsvidhya.com/wp-content/uploads/2019/11/tokenization.png)\n",
        "\n",
        "### Subtoken Tokenization\n",
        "\n",
        "To overcome the issues described above, recent works have been done on tokenization, leveraging \"subtoken\" tokenization.\n",
        "**Subtokens** extends the previous splitting strategy to furthermore explode a word into grammatically logicial sub-components learned\n",
        "from the data.\n",
        "\n",
        "Taking our previous example of the words __cat__ and __cats__, a sub-tokenization of the word __cats__ would be [cat, ##s]. Where the prefix _\"##\"_ indicates a subtoken of the initial input. \n",
        "Such training algorithms might extract sub-tokens such as _\"##ing\"_, _\"##ed\"_ over English corpus.\n",
        "\n",
        "As you might think of, this kind of sub-tokens construction leveraging compositions of _\"pieces\"_ overall reduces the size\n",
        "of the vocabulary you have to carry to train a Machine Learning model. On the other side, as one token might be exploded\n",
        "into multiple subtokens, the input of your model might increase and become an issue on model with non-linear complexity over the input sequence's length. \n",
        " \n",
        "![subtokenization](https://nlp.fast.ai/images/multifit_vocabularies.png)\n",
        " \n",
        "Among all the tokenization algorithms, we can highlight a few subtokens algorithms used in Transformers-based SoTA models : \n",
        "\n",
        "- [Byte Pair Encoding (BPE) - Neural Machine Translation of Rare Words with Subword Units (Sennrich et al., 2015)](https://arxiv.org/abs/1508.07909)\n",
        "- [Word Piece - Japanese and Korean voice search (Schuster, M., and Nakajima, K., 2015)](https://research.google/pubs/pub37842/)\n",
        "- [Unigram Language Model - Subword Regularization: Improving Neural Network Translation Models with Multiple Subword Candidates (Kudo, T., 2018)](https://arxiv.org/abs/1804.10959)\n",
        "- [Sentence Piece - A simple and language independent subword tokenizer and detokenizer for Neural Text Processing (Taku Kudo and John Richardson, 2018)](https://arxiv.org/abs/1808.06226)\n",
        "\n",
        "Going through all of them is out of the scope of this notebook, so we will just highlight how you can use them.\n",
        "\n",
        "### @huggingface/tokenizers library \n",
        "Along with the transformers library, we @huggingface provide a blazing fast tokenization library\n",
        "able to train, tokenize and decode dozens of Gb/s of text on a common multi-core machine.\n",
        "\n",
        "The library is written in Rust allowing us to take full advantage of multi-core parallel computations in a native and memory-aware way, on-top of which \n",
        "we provide bindings for Python and NodeJS (more bindings may be added in the future). \n",
        "\n",
        "We designed the library so that it provides all the required blocks to create end-to-end tokenizers in an interchangeable way. In that sense, we provide\n",
        "these various components: \n",
        "\n",
        "- **Normalizer**: Executes all the initial transformations over the initial input string. For example when you need to\n",
        "lowercase some text, maybe strip it, or even apply one of the common unicode normalization process, you will add a Normalizer. \n",
        "- **PreTokenizer**: In charge of splitting the initial input string. That's the component that decides where and how to\n",
        "pre-segment the origin string. The simplest example would be like we saw before, to simply split on spaces.\n",
        "- **Model**: Handles all the sub-token discovery and generation, this part is trainable and really dependant\n",
        " of your input data.\n",
        "- **Post-Processor**: Provides advanced construction features to be compatible with some of the Transformers-based SoTA\n",
        "models. For instance, for BERT it would wrap the tokenized sentence around [CLS] and [SEP] tokens.\n",
        "- **Decoder**: In charge of mapping back a tokenized input to the original string. The decoder is usually chosen according\n",
        "to the `PreTokenizer` we used previously.\n",
        "- **Trainer**: Provides training capabilities to each model.\n",
        "\n",
        "For each of the components above we provide multiple implementations:\n",
        "\n",
        "- **Normalizer**: Lowercase, Unicode (NFD, NFKD, NFC, NFKC), Bert, Strip, ...\n",
        "- **PreTokenizer**: ByteLevel, WhitespaceSplit, CharDelimiterSplit, Metaspace, ...\n",
        "- **Model**: WordLevel, BPE, WordPiece\n",
        "- **Post-Processor**: BertProcessor, ...\n",
        "- **Decoder**: WordLevel, BPE, WordPiece, ...\n",
        "\n",
        "All of these building blocks can be combined to create working tokenization pipelines. \n",
        "In the next section we will go over our first pipeline."
      ]
    },
    {
      "cell_type": "markdown",
      "metadata": {
        "pycharm": {
          "name": "#%% md\n"
        },
        "id": "_SpTeLFh4IMO",
        "colab_type": "text"
      },
      "source": [
        "Alright, now we are ready to implement our first tokenization pipeline through `tokenizers`. \n",
        "\n",
        "For this, we will train a Byte-Pair Encoding (BPE) tokenizer on a quite small input for the purpose of this notebook.\n",
        "We will work with [the file from Peter Norving](https://www.google.com/url?sa=t&rct=j&q=&esrc=s&source=web&cd=1&cad=rja&uact=8&ved=2ahUKEwjYp9Ppru_nAhUBzIUKHfbUAG8QFjAAegQIBhAB&url=https%3A%2F%2Fnorvig.com%2Fbig.txt&usg=AOvVaw2ed9iwhcP1RKUiEROs15Dz).\n",
        "This file contains around 130.000 lines of raw text that will be processed by the library to generate a working tokenizer.\n"
      ]
    },
    {
      "cell_type": "code",
      "metadata": {
        "pycharm": {
          "is_executing": false,
          "name": "#%% code\n"
        },
        "id": "SnlQLvse4IMX",
        "colab_type": "code",
        "colab": {
          "base_uri": "https://localhost:8080/",
          "height": 124
        },
        "outputId": "d9d55d3a-5ec8-492b-c98a-2200c7d9f4c4"
      },
      "source": [
        "!pip install tokenizers"
      ],
      "execution_count": 1,
      "outputs": [
        {
          "output_type": "stream",
          "text": [
            "Collecting tokenizers\n",
            "\u001b[?25l  Downloading https://files.pythonhosted.org/packages/73/de/ec55e2d5a8720557b25100dd7dd4a63108a44b6b303978ce2587666931cf/tokenizers-0.6.0-cp36-cp36m-manylinux1_x86_64.whl (3.8MB)\n",
            "\u001b[K     |████████████████████████████████| 3.8MB 2.8MB/s \n",
            "\u001b[?25hInstalling collected packages: tokenizers\n",
            "Successfully installed tokenizers-0.6.0\n"
          ],
          "name": "stdout"
        }
      ]
    },
    {
      "cell_type": "code",
      "metadata": {
        "id": "G4VeAyd_4MKW",
        "colab_type": "code",
        "colab": {
          "base_uri": "https://localhost:8080/",
          "height": 139
        },
        "outputId": "255a2a7b-3c17-4f0b-b846-9f9c04409200"
      },
      "source": [
        "!git clone https://github.com/huggingface/transformers\n"
      ],
      "execution_count": 2,
      "outputs": [
        {
          "output_type": "stream",
          "text": [
            "Cloning into 'transformers'...\n",
            "remote: Enumerating objects: 71, done.\u001b[K\n",
            "remote: Counting objects: 100% (71/71), done.\u001b[K\n",
            "remote: Compressing objects: 100% (51/51), done.\u001b[K\n",
            "remote: Total 23975 (delta 26), reused 32 (delta 13), pack-reused 23904\u001b[K\n",
            "Receiving objects: 100% (23975/23975), 14.33 MiB | 24.30 MiB/s, done.\n",
            "Resolving deltas: 100% (16957/16957), done.\n"
          ],
          "name": "stdout"
        }
      ]
    },
    {
      "cell_type": "code",
      "metadata": {
        "id": "XUuvfc7u4cVY",
        "colab_type": "code",
        "colab": {
          "base_uri": "https://localhost:8080/",
          "height": 35
        },
        "outputId": "ee83d2f0-f2f2-4315-c78b-9cbf25e5bfca"
      },
      "source": [
        "cd transformers"
      ],
      "execution_count": 3,
      "outputs": [
        {
          "output_type": "stream",
          "text": [
            "/content/transformers\n"
          ],
          "name": "stdout"
        }
      ]
    },
    {
      "cell_type": "code",
      "metadata": {
        "id": "BE5Ij-nD4Qei",
        "colab_type": "code",
        "colab": {
          "base_uri": "https://localhost:8080/",
          "height": 765
        },
        "outputId": "8d5c4742-1228-4366-9ec3-af66ef9cdce4"
      },
      "source": [
        "!pip install --upgrade ."
      ],
      "execution_count": 4,
      "outputs": [
        {
          "output_type": "stream",
          "text": [
            "Processing /content/transformers\n",
            "Requirement already satisfied, skipping upgrade: numpy in /usr/local/lib/python3.6/dist-packages (from transformers==2.8.0) (1.18.2)\n",
            "Collecting tokenizers==0.7.0rc5\n",
            "\u001b[?25l  Downloading https://files.pythonhosted.org/packages/a4/22/ee2cfbc36fcf8db25ab1cbb987df5db1988df837403c724720ce7e01f1bb/tokenizers-0.7.0rc5-cp36-cp36m-manylinux1_x86_64.whl (3.8MB)\n",
            "\u001b[K     |████████████████████████████████| 3.8MB 2.8MB/s \n",
            "\u001b[?25hRequirement already satisfied, skipping upgrade: boto3 in /usr/local/lib/python3.6/dist-packages (from transformers==2.8.0) (1.12.38)\n",
            "Requirement already satisfied, skipping upgrade: filelock in /usr/local/lib/python3.6/dist-packages (from transformers==2.8.0) (3.0.12)\n",
            "Requirement already satisfied, skipping upgrade: requests in /usr/local/lib/python3.6/dist-packages (from transformers==2.8.0) (2.21.0)\n",
            "Requirement already satisfied, skipping upgrade: tqdm>=4.27 in /usr/local/lib/python3.6/dist-packages (from transformers==2.8.0) (4.38.0)\n",
            "Requirement already satisfied, skipping upgrade: regex!=2019.12.17 in /usr/local/lib/python3.6/dist-packages (from transformers==2.8.0) (2019.12.20)\n",
            "Collecting sentencepiece\n",
            "\u001b[?25l  Downloading https://files.pythonhosted.org/packages/74/f4/2d5214cbf13d06e7cb2c20d84115ca25b53ea76fa1f0ade0e3c9749de214/sentencepiece-0.1.85-cp36-cp36m-manylinux1_x86_64.whl (1.0MB)\n",
            "\u001b[K     |████████████████████████████████| 1.0MB 30.5MB/s \n",
            "\u001b[?25hCollecting sacremoses\n",
            "\u001b[?25l  Downloading https://files.pythonhosted.org/packages/99/50/93509f906a40bffd7d175f97fd75ea328ad9bd91f48f59c4bd084c94a25e/sacremoses-0.0.41.tar.gz (883kB)\n",
            "\u001b[K     |████████████████████████████████| 890kB 38.1MB/s \n",
            "\u001b[?25hRequirement already satisfied, skipping upgrade: dataclasses in /usr/local/lib/python3.6/dist-packages (from transformers==2.8.0) (0.7)\n",
            "Requirement already satisfied, skipping upgrade: s3transfer<0.4.0,>=0.3.0 in /usr/local/lib/python3.6/dist-packages (from boto3->transformers==2.8.0) (0.3.3)\n",
            "Requirement already satisfied, skipping upgrade: botocore<1.16.0,>=1.15.38 in /usr/local/lib/python3.6/dist-packages (from boto3->transformers==2.8.0) (1.15.38)\n",
            "Requirement already satisfied, skipping upgrade: jmespath<1.0.0,>=0.7.1 in /usr/local/lib/python3.6/dist-packages (from boto3->transformers==2.8.0) (0.9.5)\n",
            "Requirement already satisfied, skipping upgrade: urllib3<1.25,>=1.21.1 in /usr/local/lib/python3.6/dist-packages (from requests->transformers==2.8.0) (1.24.3)\n",
            "Requirement already satisfied, skipping upgrade: certifi>=2017.4.17 in /usr/local/lib/python3.6/dist-packages (from requests->transformers==2.8.0) (2020.4.5.1)\n",
            "Requirement already satisfied, skipping upgrade: idna<2.9,>=2.5 in /usr/local/lib/python3.6/dist-packages (from requests->transformers==2.8.0) (2.8)\n",
            "Requirement already satisfied, skipping upgrade: chardet<3.1.0,>=3.0.2 in /usr/local/lib/python3.6/dist-packages (from requests->transformers==2.8.0) (3.0.4)\n",
            "Requirement already satisfied, skipping upgrade: six in /usr/local/lib/python3.6/dist-packages (from sacremoses->transformers==2.8.0) (1.12.0)\n",
            "Requirement already satisfied, skipping upgrade: click in /usr/local/lib/python3.6/dist-packages (from sacremoses->transformers==2.8.0) (7.1.1)\n",
            "Requirement already satisfied, skipping upgrade: joblib in /usr/local/lib/python3.6/dist-packages (from sacremoses->transformers==2.8.0) (0.14.1)\n",
            "Requirement already satisfied, skipping upgrade: docutils<0.16,>=0.10 in /usr/local/lib/python3.6/dist-packages (from botocore<1.16.0,>=1.15.38->boto3->transformers==2.8.0) (0.15.2)\n",
            "Requirement already satisfied, skipping upgrade: python-dateutil<3.0.0,>=2.1 in /usr/local/lib/python3.6/dist-packages (from botocore<1.16.0,>=1.15.38->boto3->transformers==2.8.0) (2.8.1)\n",
            "Building wheels for collected packages: transformers, sacremoses\n",
            "  Building wheel for transformers (setup.py) ... \u001b[?25l\u001b[?25hdone\n",
            "  Created wheel for transformers: filename=transformers-2.8.0-cp36-none-any.whl size=566867 sha256=075d0a8e9232ca3cbe105d17c06e130c78e39fa8c66e3d48cdc1a12a9ef78ff4\n",
            "  Stored in directory: /tmp/pip-ephem-wheel-cache-e1as80xm/wheels/23/19/dd/2561a4e47240cf6b307729d58e56f8077dd0c698f5992216cf\n",
            "  Building wheel for sacremoses (setup.py) ... \u001b[?25l\u001b[?25hdone\n",
            "  Created wheel for sacremoses: filename=sacremoses-0.0.41-cp36-none-any.whl size=893334 sha256=e2724de1e31812721875c2e0048dab67ce25324495868371fdd36bd53f5c0d10\n",
            "  Stored in directory: /root/.cache/pip/wheels/22/5a/d4/b020a81249de7dc63758a34222feaa668dbe8ebfe9170cc9b1\n",
            "Successfully built transformers sacremoses\n",
            "Installing collected packages: tokenizers, sentencepiece, sacremoses, transformers\n",
            "  Found existing installation: tokenizers 0.6.0\n",
            "    Uninstalling tokenizers-0.6.0:\n",
            "      Successfully uninstalled tokenizers-0.6.0\n",
            "Successfully installed sacremoses-0.0.41 sentencepiece-0.1.85 tokenizers-0.7.0rc5 transformers-2.8.0\n"
          ],
          "name": "stdout"
        }
      ]
    },
    {
      "cell_type": "code",
      "metadata": {
        "id": "WxbRwWfa4VCJ",
        "colab_type": "code",
        "colab": {
          "base_uri": "https://localhost:8080/",
          "height": 35
        },
        "outputId": "c6afc1ae-5c1f-4c0f-ac1b-e1a694a136fd"
      },
      "source": [
        "cd ../"
      ],
      "execution_count": 5,
      "outputs": [
        {
          "output_type": "stream",
          "text": [
            "/content\n"
          ],
          "name": "stdout"
        }
      ]
    },
    {
      "cell_type": "code",
      "metadata": {
        "pycharm": {
          "is_executing": false,
          "name": "#%% code\n"
        },
        "id": "8B7aGXBy4IM-",
        "colab_type": "code",
        "colab": {}
      },
      "source": [
        "BIG_FILE_URL = 'https://raw.githubusercontent.com/dscape/spell/master/test/resources/big.txt'\n",
        "\n",
        "# Let's download the file and save it somewhere\n",
        "from requests import get\n",
        "with open('big.txt', 'wb') as big_f:\n",
        "    response = get(BIG_FILE_URL, )\n",
        "    \n",
        "    if response.status_code == 200:\n",
        "        big_f.write(response.content)\n",
        "    else:\n",
        "        print(\"Unable to get the file: {}\".format(response.reason))\n"
      ],
      "execution_count": 0,
      "outputs": []
    },
    {
      "cell_type": "markdown",
      "metadata": {
        "pycharm": {
          "is_executing": false,
          "name": "#%% md\n"
        },
        "id": "jOKSwoRk4INY",
        "colab_type": "text"
      },
      "source": [
        " \n",
        "Now that we have our training data we need to create the overall pipeline for the tokenizer\n",
        " "
      ]
    },
    {
      "cell_type": "code",
      "metadata": {
        "pycharm": {
          "is_executing": false,
          "name": "#%% code\n"
        },
        "id": "0RKgYeIP4INa",
        "colab_type": "code",
        "colab": {}
      },
      "source": [
        "# For the user's convenience `tokenizers` provides some very high-level classes encapsulating\n",
        "# the overall pipeline for various well-known tokenization algorithm. \n",
        "# Everything described below can be replaced by the ByteLevelBPETokenizer class. \n",
        "\n",
        "from tokenizers import Tokenizer\n",
        "from tokenizers.decoders import ByteLevel as ByteLevelDecoder\n",
        "from tokenizers.models import BPE\n",
        "from tokenizers.normalizers import Lowercase, NFKC, Sequence\n",
        "from tokenizers.pre_tokenizers import ByteLevel\n",
        "\n",
        "# First we create an empty Byte-Pair Encoding model (i.e. not trained model)\n",
        "tokenizer = Tokenizer(BPE())\n",
        "\n",
        "# Then we enable lower-casing and unicode-normalization\n",
        "# The Sequence normalizer allows us to combine multiple Normalizer that will be\n",
        "# executed in order.\n",
        "tokenizer.normalizer = Sequence([\n",
        "    NFKC(),\n",
        "    Lowercase()\n",
        "])\n",
        "\n",
        "# Our tokenizer also needs a pre-tokenizer responsible for converting the input to a ByteLevel representation.\n",
        "tokenizer.pre_tokenizer = ByteLevel()\n",
        "\n",
        "# And finally, let's plug a decoder so we can recover from a tokenized input to the original one\n",
        "tokenizer.decoder = ByteLevelDecoder()"
      ],
      "execution_count": 0,
      "outputs": []
    },
    {
      "cell_type": "markdown",
      "metadata": {
        "pycharm": {
          "name": "#%% md\n"
        },
        "id": "MMgucjkd4INp",
        "colab_type": "text"
      },
      "source": [
        "The overall pipeline is now ready to be trained on the corpus we downloaded earlier in this notebook."
      ]
    },
    {
      "cell_type": "code",
      "metadata": {
        "pycharm": {
          "is_executing": false,
          "name": "#%% code\n"
        },
        "id": "LKLq1tTo4INr",
        "colab_type": "code",
        "colab": {}
      },
      "source": [
        "from tokenizers.trainers import BpeTrainer\n",
        "\n",
        "# We initialize our trainer, giving him the details about the vocabulary we want to generate\n",
        "trainer = BpeTrainer(vocab_size=25000, show_progress=True, initial_alphabet=ByteLevel.alphabet())\n",
        "tokenizer.train(trainer, [\"big.txt\"])\n",
        "\n",
        "print(\"Trained vocab size: {}\".format(tokenizer.get_vocab_size()))"
      ],
      "execution_count": 0,
      "outputs": []
    },
    {
      "cell_type": "markdown",
      "metadata": {
        "pycharm": {
          "name": "#%% md\n"
        },
        "id": "IGXADkRj4IOD",
        "colab_type": "text"
      },
      "source": [
        "Et voilà ! You trained your very first tokenizer from scratch using `tokenizers`. Of course, this \n",
        "covers only the basics, and you may want to have a look at the `add_special_tokens` or `special_tokens` parameters\n",
        "on the `Trainer` class, but the overall process should be very similar.\n",
        "\n",
        "We can save the content of the model to reuse it later."
      ]
    },
    {
      "cell_type": "code",
      "metadata": {
        "pycharm": {
          "is_executing": false,
          "name": "#%% code\n"
        },
        "id": "SFyXY4LV4IOF",
        "colab_type": "code",
        "colab": {}
      },
      "source": [
        "# You will see the generated files in the output.\n",
        "tokenizer.model.save('.')"
      ],
      "execution_count": 0,
      "outputs": []
    },
    {
      "cell_type": "markdown",
      "metadata": {
        "pycharm": {
          "name": "#%% md\n"
        },
        "id": "qMWI7dDh4IOQ",
        "colab_type": "text"
      },
      "source": [
        "Now, let load the trained model and start using out newly trained tokenizer"
      ]
    },
    {
      "cell_type": "code",
      "metadata": {
        "pycharm": {
          "is_executing": false,
          "name": "#%% code\n"
        },
        "id": "GVppuZqk4IOU",
        "colab_type": "code",
        "colab": {}
      },
      "source": [
        "# Let's tokenizer a simple input\n",
        "tokenizer.model = BPE('vocab.json', 'merges.txt')\n",
        "encoding = tokenizer.encode(\"This is a simple input to be tokenized\")\n",
        "\n",
        "print(\"Encoded string: {}\".format(encoding.tokens))\n",
        "\n",
        "decoded = tokenizer.decode(encoding.ids)\n",
        "print(\"Decoded string: {}\".format(decoded))"
      ],
      "execution_count": 0,
      "outputs": []
    },
    {
      "cell_type": "markdown",
      "metadata": {
        "pycharm": {
          "name": "#%% md\n"
        },
        "id": "pYGKUGzb4IOn",
        "colab_type": "text"
      },
      "source": [
        "The Encoding structure exposes multiple properties which are useful when working with transformers models\n",
        "\n",
        "- normalized_str: The input string after normalization (lower-casing, unicode, stripping, etc.)\n",
        "- original_str: The input string as it was provided\n",
        "- tokens: The generated tokens with their string representation\n",
        "- input_ids: The generated tokens with their integer representation\n",
        "- attention_mask: If your input has been padded by the tokenizer, then this would be a vector of 1 for any non padded token and 0 for padded ones.\n",
        "- special_token_mask: If your input contains special tokens such as [CLS], [SEP], [MASK], [PAD], then this would be a vector with 1 in places where a special token has been added.\n",
        "- type_ids: If your input was made of multiple \"parts\" such as (question, context), then this would be a vector with for each token the segment it belongs to.\n",
        "- overflowing: If your input has been truncated into multiple subparts because of a length limit (for BERT for example the sequence length is limited to 512), this will contain all the remaining overflowing parts."
      ]
    }
  ]
}